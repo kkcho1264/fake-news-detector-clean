{
 "cells": [
  {
   "cell_type": "code",
   "execution_count": 7,
   "id": "1a5a571e",
   "metadata": {},
   "outputs": [],
   "source": [
    "import pandas as pd\n",
    "from sklearn.model_selection import train_test_split\n",
    "from sklearn.feature_extraction.text import TfidfVectorizer\n",
    "import os\n",
    "os.chdir(os.path.dirname(os.path.abspath(\"\")))\n",
    "\n",
    "\n",
    "df_fake = pd.read_csv(\"data/raw/Fake.csv\")\n",
    "df_real = pd.read_csv(\"data/raw/True.csv\")\n",
    "\n",
    "df_fake[\"label\"] = 1\n",
    "df_real[\"label\"] = 0\n",
    "df = pd.concat([df_fake, df_real]).sample(frac=1).reset_index(drop=True)\n",
    "\n",
    "vectorizer = TfidfVectorizer(stop_words='english', max_features=5000)\n",
    "X = vectorizer.fit_transform(df['text'])\n",
    "y = df['label']\n",
    "\n",
    "X_train, X_test, y_train, y_test = train_test_split(X, y, test_size=0.2, random_state=42)\n",
    "\n",
    "pd.DataFrame(X_train.toarray()).to_csv(\"data/processed/X_train.csv\", index=False)\n",
    "pd.DataFrame(X_test.toarray()).to_csv(\"data/processed/X_test.csv\", index=False)\n",
    "y_train.to_csv(\"data/processed/y_train.csv\", index=False)\n",
    "y_test.to_csv(\"data/processed/y_test.csv\", index=False)\n"
   ]
  }
 ],
 "metadata": {
  "kernelspec": {
   "display_name": "venv (3.13.5)",
   "language": "python",
   "name": "python3"
  },
  "language_info": {
   "codemirror_mode": {
    "name": "ipython",
    "version": 3
   },
   "file_extension": ".py",
   "mimetype": "text/x-python",
   "name": "python",
   "nbconvert_exporter": "python",
   "pygments_lexer": "ipython3",
   "version": "3.13.5"
  }
 },
 "nbformat": 4,
 "nbformat_minor": 5
}
