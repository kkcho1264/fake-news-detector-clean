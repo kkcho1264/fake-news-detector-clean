{
 "cells": [
  {
   "cell_type": "code",
   "execution_count": 1,
   "id": "fae5f546",
   "metadata": {},
   "outputs": [
    {
     "name": "stderr",
     "output_type": "stream",
     "text": [
      "2025/08/10 19:01:25 INFO mlflow.tracking.fluent: Experiment with name 'FakeNewsDetection' does not exist. Creating a new experiment.\n",
      "c:\\Users\\johny\\OneDrive\\Desktop\\fake-news-detector\\venv\\Lib\\site-packages\\sklearn\\preprocessing\\_label.py:110: DataConversionWarning: A column-vector y was passed when a 1d array was expected. Please change the shape of y to (n_samples, ), for example using ravel().\n",
      "  y = column_or_1d(y, warn=True)\n",
      "2025/08/10 19:08:20 WARNING mlflow.models.model: `artifact_path` is deprecated. Please use `name` instead.\n",
      "2025/08/10 19:08:32 WARNING mlflow.models.model: Model logged without a signature and input example. Please set `input_example` parameter when logging the model to auto infer the model signature.\n"
     ]
    }
   ],
   "source": [
    "import mlflow\n",
    "import mlflow.sklearn\n",
    "from sklearn.ensemble import GradientBoostingClassifier\n",
    "from sklearn.metrics import accuracy_score, f1_score\n",
    "import pandas as pd\n",
    "import os\n",
    "os.chdir(os.path.dirname(os.path.abspath(\"\")))\n",
    "\n",
    "X_train = pd.read_csv(\"data/processed/X_train.csv\")\n",
    "y_train = pd.read_csv(\"data/processed/y_train.csv\")\n",
    "X_test = pd.read_csv(\"data/processed/X_test.csv\")\n",
    "y_test = pd.read_csv(\"data/processed/y_test.csv\")\n",
    "\n",
    "mlflow.set_experiment(\"FakeNewsDetection\")\n",
    "\n",
    "with mlflow.start_run():\n",
    "    model = GradientBoostingClassifier()\n",
    "    model.fit(X_train, y_train)\n",
    "\n",
    "    preds = model.predict(X_test)\n",
    "    acc = accuracy_score(y_test, preds)\n",
    "    f1 = f1_score(y_test, preds)\n",
    "\n",
    "    mlflow.log_metric(\"accuracy\", acc)\n",
    "    mlflow.log_metric(\"f1_score\", f1)\n",
    "    mlflow.sklearn.log_model(model, \"model\")\n"
   ]
  }
 ],
 "metadata": {
  "kernelspec": {
   "display_name": "venv (3.13.5)",
   "language": "python",
   "name": "python3"
  },
  "language_info": {
   "codemirror_mode": {
    "name": "ipython",
    "version": 3
   },
   "file_extension": ".py",
   "mimetype": "text/x-python",
   "name": "python",
   "nbconvert_exporter": "python",
   "pygments_lexer": "ipython3",
   "version": "3.13.5"
  }
 },
 "nbformat": 4,
 "nbformat_minor": 5
}
